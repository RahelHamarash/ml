{
 "cells": [
  {
   "cell_type": "code",
   "execution_count": null,
   "metadata": {
    "colab": {
     "base_uri": "https://localhost:8080/"
    },
    "executionInfo": {
     "elapsed": 284,
     "status": "ok",
     "timestamp": 1641933232763,
     "user": {
      "displayName": "Rahell Hamarash",
      "photoUrl": "https://lh3.googleusercontent.com/a-/AOh14Gilb3aT4LZIngPquHJSpEJxa44E1UbI_cPebqqhnQ=s64",
      "userId": "01393443202245398716"
     },
     "user_tz": -180
    },
    "id": "8Gr-hCuY6jQP",
    "outputId": "f81a5bd5-17bf-47bb-c888-b882339894c5"
   },
   "outputs": [
    {
     "data": {
      "text/plain": [
       "(array([4.21509616]), array([[2.77011339]]))"
      ]
     },
     "execution_count": 10,
     "metadata": {},
     "output_type": "execute_result"
    }
   ],
   "source": [
    "import numpy as np\n",
    "from sklearn.linear_model import LinearRegression\n",
    "import matplotlib.pyplot as plt\n",
    "\n",
    "\n",
    "\n",
    "np.random.seed(42)\n",
    "x = 2 * np.random.rand(100, 1)\n",
    "y = 4 + 3 * x + np.random.randn(100, 1)\n",
    "\n",
    "lin_reg = LinearRegression()\n",
    "lin_reg.fit(x, y)\n",
    "lin_reg.intercept_, lin_reg.coef_\n",
    "\n"
   ]
  },
  {
   "cell_type": "code",
   "execution_count": 30,
   "metadata": {
    "colab": {
     "base_uri": "https://localhost:8080/",
     "height": 282
    },
    "executionInfo": {
     "elapsed": 332,
     "status": "ok",
     "timestamp": 1642181713650,
     "user": {
      "displayName": "Rahell Hamarash",
      "photoUrl": "https://lh3.googleusercontent.com/a-/AOh14Gilb3aT4LZIngPquHJSpEJxa44E1UbI_cPebqqhnQ=s64",
      "userId": "01393443202245398716"
     },
     "user_tz": -180
    },
    "id": "K5JGTjV_i3zg",
    "outputId": "1bfca1b9-4926-4ef1-d3eb-a472fed51e4b"
   },
   "outputs": [
    {
     "data": {
      "text/plain": [
       "[<matplotlib.lines.Line2D at 0x7f8486d73350>]"
      ]
     },
     "execution_count": 30,
     "metadata": {},
     "output_type": "execute_result"
    },
    {
     "data": {
      "image/png": "[encoded data removed]",
      "text/plain": [
       "<Figure size 432x288 with 1 Axes>"
      ]
     },
     "metadata": {
      "needs_background": "light"
     },
     "output_type": "display_data"
    }
   ],
   "source": [
    "from sklearn import datasets\n",
    "import numpy as np\n",
    "from sklearn.linear_model import LogisticRegression\n",
    "import matplotlib.pyplot as plt\n",
    "\n",
    "iris = datasets.load_iris()\n",
    "\n",
    "keys = iris.keys()\n",
    "\n",
    "x = iris['data'][:,3:]\n",
    "y = (iris['target'] == 2 ).astype(np.int)\n",
    "\n",
    "log_reg = LogisticRegression()\n",
    "log_reg.fit(x,y)\n",
    "\n",
    "x_new = np.linspace(0, 3, 1000).reshape(-1,1)\n",
    "y_proba = log_reg.predict_proba(x_new)\n",
    "\n",
    "plt.plot(x_new, y_proba[:, 1], \"g-\", label=\"Iris-Virginica\")\n",
    "plt.plot(x_new, y_proba[:, 0], \"b--\", label=\"Not Iris-Virginica\")\n",
    "\n"
   ]
  },
  {
   "cell_type": "code",
   "execution_count": 38,
   "metadata": {
    "colab": {
     "base_uri": "https://localhost:8080/"
    },
    "executionInfo": {
     "elapsed": 286,
     "status": "ok",
     "timestamp": 1642182181605,
     "user": {
      "displayName": "Rahell Hamarash",
      "photoUrl": "https://lh3.googleusercontent.com/a-/AOh14Gilb3aT4LZIngPquHJSpEJxa44E1UbI_cPebqqhnQ=s64",
      "userId": "01393443202245398716"
     },
     "user_tz": -180
    },
    "id": "NxrE7wsJrM8o",
    "outputId": "d7471dd7-a20a-47a7-e3be-46d625055a9a"
   },
   "outputs": [
    {
     "data": {
      "text/plain": [
       "array([[6.38014896e-07, 5.74929995e-02, 9.42506362e-01]])"
      ]
     },
     "execution_count": 38,
     "metadata": {},
     "output_type": "execute_result"
    }
   ],
   "source": [
    "from sklearn import datasets\n",
    "from sklearn.linear_model import LogisticRegression\n",
    "import numpy as np\n",
    "\n",
    "iris = datasets.load_iris()\n",
    "x = iris[\"data\"][:, (2, 3)]\n",
    "y = iris[\"target\"]\n",
    "\n",
    "softmax_reg = LogisticRegression(multi_class=\"multinomial\",solver=\"lbfgs\", C=10) \n",
    "softmax_reg.fit(x, y)\n",
    "softmax_reg.predict_proba([[5, 2]])"
   ]
  },
  {
   "cell_type": "code",
   "execution_count": null,
   "metadata": {
    "colab": {
     "base_uri": "https://localhost:8080/"
    },
    "executionInfo": {
     "elapsed": 518,
     "status": "ok",
     "timestamp": 1642093520356,
     "user": {
      "displayName": "Rahell Hamarash",
      "photoUrl": "https://lh3.googleusercontent.com/a-/AOh14Gilb3aT4LZIngPquHJSpEJxa44E1UbI_cPebqqhnQ=s64",
      "userId": "01393443202245398716"
     },
     "user_tz": -180
    },
    "id": "zuGo6H2qV5YL",
    "outputId": "a2be9e09-d8e3-4235-f829-8da44859b366"
   },
   "outputs": [
    {
     "data": {
      "text/plain": [
       "array([[8.32725833]])"
      ]
     },
     "execution_count": 19,
     "metadata": {},
     "output_type": "execute_result"
    }
   ],
   "source": [
    "from sklearn.linear_model import Ridge\n",
    "import numpy as np\n",
    "\n",
    "\n",
    "np.random.seed(42)\n",
    "x = 2 * np.random.rand(100, 1)\n",
    "y = 4 + 3 * x + np.random.randn(100, 1)\n",
    "ridge_reg = Ridge(alpha=1, solver=\"cholesky\")\n",
    "ridge_reg.fit(x, y)\n",
    "ridge_reg.predict([[1.5]])"
   ]
  },
  {
   "cell_type": "code",
   "execution_count": null,
   "metadata": {
    "colab": {
     "base_uri": "https://localhost:8080/"
    },
    "executionInfo": {
     "elapsed": 517,
     "status": "ok",
     "timestamp": 1642093618764,
     "user": {
      "displayName": "Rahell Hamarash",
      "photoUrl": "https://lh3.googleusercontent.com/a-/AOh14Gilb3aT4LZIngPquHJSpEJxa44E1UbI_cPebqqhnQ=s64",
      "userId": "01393443202245398716"
     },
     "user_tz": -180
    },
    "id": "Qk7-z0FGZq6e",
    "outputId": "3892fdcc-3a94-4b21-9cc4-b5c04cda55bf"
   },
   "outputs": [
    {
     "data": {
      "text/plain": [
       "array([8.2105793])"
      ]
     },
     "execution_count": 20,
     "metadata": {},
     "output_type": "execute_result"
    }
   ],
   "source": [
    "from sklearn.linear_model import Lasso\n",
    "import numpy as np\n",
    "\n",
    "\n",
    "np.random.seed(42)\n",
    "x = 2 * np.random.rand(100, 1)\n",
    "y = 4 + 3 * x + np.random.randn(100, 1)\n",
    "lasso_reg = Lasso(alpha=0.1)\n",
    "lasso_reg.fit(x, y)\n",
    "lasso_reg.predict([[1.5]])\n"
   ]
  },
  {
   "cell_type": "code",
   "execution_count": null,
   "metadata": {
    "colab": {
     "base_uri": "https://localhost:8080/"
    },
    "executionInfo": {
     "elapsed": 474,
     "status": "ok",
     "timestamp": 1642093757011,
     "user": {
      "displayName": "Rahell Hamarash",
      "photoUrl": "https://lh3.googleusercontent.com/a-/AOh14Gilb3aT4LZIngPquHJSpEJxa44E1UbI_cPebqqhnQ=s64",
      "userId": "01393443202245398716"
     },
     "user_tz": -180
    },
    "id": "l2lRa6SpaWWa",
    "outputId": "9846475b-9512-4ae6-ca51-672e34851137"
   },
   "outputs": [
    {
     "data": {
      "text/plain": [
       "array([8.10683147])"
      ]
     },
     "execution_count": 21,
     "metadata": {},
     "output_type": "execute_result"
    }
   ],
   "source": [
    "from sklearn.linear_model import ElasticNet\n",
    "import numpy as np\n",
    "np.random.seed(42)\n",
    "x = 2 * np.random.rand(100, 1)\n",
    "y = 4 + 3 * x + np.random.randn(100, 1)\n",
    "elastic_net = ElasticNet(alpha=0.1, l1_ratio=0.5)\n",
    "elastic_net.fit(x, y)\n",
    "elastic_net.predict([[1.5]])\n"
   ]
  },
  {
   "cell_type": "code",
   "execution_count": null,
   "metadata": {
    "colab": {
     "base_uri": "https://localhost:8080/"
    },
    "executionInfo": {
     "elapsed": 472,
     "status": "ok",
     "timestamp": 1642093352421,
     "user": {
      "displayName": "Rahell Hamarash",
      "photoUrl": "https://lh3.googleusercontent.com/a-/AOh14Gilb3aT4LZIngPquHJSpEJxa44E1UbI_cPebqqhnQ=s64",
      "userId": "01393443202245398716"
     },
     "user_tz": -180
    },
    "id": "VVyt87GjYZnT",
    "outputId": "2ff519cc-0e96-46f8-8cd7-1049017a38af"
   },
   "outputs": [
    {
     "data": {
      "text/plain": [
       "array([8.47996621])"
      ]
     },
     "execution_count": 17,
     "metadata": {},
     "output_type": "execute_result"
    }
   ],
   "source": [
    "from sklearn.linear_model import SGDRegressor\n",
    "import numpy as np\n",
    "\n",
    "\n",
    "np.random.seed(42)\n",
    "x = 2 * np.random.rand(100, 1)\n",
    "y = 4 + 3 * x + np.random.randn(100, 1)\n",
    "\n",
    "sgd_reg = SGDRegressor(penalty=\"l2\")\n",
    "sgd_reg.fit(x, y.ravel())\n",
    "sgd_reg.predict([[1.5]])"
   ]
  },
  {
   "cell_type": "code",
   "execution_count": null,
   "metadata": {
    "colab": {
     "base_uri": "https://localhost:8080/"
    },
    "executionInfo": {
     "elapsed": 284,
     "status": "ok",
     "timestamp": 1641935027331,
     "user": {
      "displayName": "Rahell Hamarash",
      "photoUrl": "https://lh3.googleusercontent.com/a-/AOh14Gilb3aT4LZIngPquHJSpEJxa44E1UbI_cPebqqhnQ=s64",
      "userId": "01393443202245398716"
     },
     "user_tz": -180
    },
    "id": "o35boJ1i5x-y",
    "outputId": "fcf46702-0e26-4e17-a350-1a0a31e59b4e"
   },
   "outputs": [
    {
     "data": {
      "text/plain": [
       "(array([4.56140272]), array([[1.63887939, 0.5810637 ]]))"
      ]
     },
     "execution_count": 22,
     "metadata": {},
     "output_type": "execute_result"
    }
   ],
   "source": [
    "import numpy as np\n",
    "from sklearn.linear_model import LinearRegression\n",
    "from sklearn.preprocessing import PolynomialFeatures\n",
    "import matplotlib.pyplot as plt\n",
    "\n",
    "np.random.seed(42)\n",
    "x = 2 * np.random.rand(100, 1)\n",
    "y = 4 + 3 * x + np.random.randn(100, 1)\n",
    "poly_features = PolynomialFeatures(degree=2, include_bias=False)\n",
    "x_poly = poly_features.fit_transform(x)\n",
    "lin_reg = LinearRegression()\n",
    "lin_reg.fit(x_poly, y)\n",
    "lin_reg.intercept_, lin_reg.coef_\n"
   ]
  },
  {
   "cell_type": "code",
   "execution_count": null,
   "metadata": {
    "colab": {
     "base_uri": "https://localhost:8080/"
    },
    "executionInfo": {
     "elapsed": 294,
     "status": "ok",
     "timestamp": 1641933224980,
     "user": {
      "displayName": "Rahell Hamarash",
      "photoUrl": "https://lh3.googleusercontent.com/a-/AOh14Gilb3aT4LZIngPquHJSpEJxa44E1UbI_cPebqqhnQ=s64",
      "userId": "01393443202245398716"
     },
     "user_tz": -180
    },
    "id": "UcrLSy7K07TS",
    "outputId": "ada4b6a2-34ef-4f5f-c2a2-f176fff8a1e6"
   },
   "outputs": [
    {
     "data": {
      "text/plain": [
       "(array([4.2105325]), array([2.77484204]))"
      ]
     },
     "execution_count": 9,
     "metadata": {},
     "output_type": "execute_result"
    }
   ],
   "source": [
    "import numpy as np\n",
    "from sklearn.linear_model import LinearRegression\n",
    "import matplotlib.pyplot as plt\n",
    "from sklearn.linear_model import SGDRegressor\n",
    "\n",
    "np.random.seed(42)\n",
    "x = 2 * np.random.rand(100, 1)\n",
    "y = 4 + 3 * x + np.random.randn(100, 1)\n",
    "sgd_reg = SGDRegressor(max_iter=50, penalty=None, eta0=0.1)\n",
    "sgd_reg.fit(x, y.ravel())\n",
    "sgd_reg.intercept_, sgd_reg.coef_\n",
    "\n"
   ]
  },
  {
   "cell_type": "code",
   "execution_count": null,
   "metadata": {
    "colab": {
     "base_uri": "https://localhost:8080/",
     "height": 265
    },
    "executionInfo": {
     "elapsed": 363,
     "status": "ok",
     "timestamp": 1641936048557,
     "user": {
      "displayName": "Rahell Hamarash",
      "photoUrl": "https://lh3.googleusercontent.com/a-/AOh14Gilb3aT4LZIngPquHJSpEJxa44E1UbI_cPebqqhnQ=s64",
      "userId": "01393443202245398716"
     },
     "user_tz": -180
    },
    "id": "HyXzpNKX-_7U",
    "outputId": "5acf0acf-419d-4690-973f-6a9d3eec2219"
   },
   "outputs": [
    {
     "data": {
      "image/png": "[encoded data removed]",
      "text/plain": [
       "<Figure size 432x288 with 1 Axes>"
      ]
     },
     "metadata": {
      "needs_background": "light"
     },
     "output_type": "display_data"
    }
   ],
   "source": [
    "import numpy as np\n",
    "from sklearn.metrics import mean_squared_error\n",
    "from sklearn.model_selection import train_test_split\n",
    "import matplotlib.pyplot as plt\n",
    "from sklearn.linear_model import LinearRegression\n",
    "\n",
    "def plot_learning_curves(model, x, y):\n",
    "  x_train, x_test, y_train, y_test = train_test_split(x, y, test_size=0.2)\n",
    "  train_errors, test_errors = [], []\n",
    "  for m in range(1, len(x_train)):\n",
    "    model.fit(x_train[:m], y_train[:m])\n",
    "    y_train_predict = model.predict(x_train[:m])\n",
    "    y_test_predict = model.predict(x_test)\n",
    "    train_errors.append(mean_squared_error(y_train_predict, y_train[:m]))\n",
    "    test_errors.append(mean_squared_error(y_test_predict, y_test))\n",
    "  plt.plot(np.sqrt(train_errors), \"r-+\", linewidth=2, label=\"train\")\n",
    "  plt.plot(np.sqrt(test_errors), \"b-\", linewidth=3, label=\"test\")\n",
    "  \n",
    "np.random.seed(42)\n",
    "x = 2 * np.random.rand(100, 1)\n",
    "y = 4 + 3 * x + np.random.randn(100, 1)\n",
    "\n",
    "\n",
    "lin_reg = LinearRegression()\n",
    "plot_learning_curves(lin_reg, x, y)\n"
   ]
  },
  {
   "cell_type": "code",
   "execution_count": null,
   "metadata": {
    "colab": {
     "base_uri": "https://localhost:8080/",
     "height": 276
    },
    "executionInfo": {
     "elapsed": 3998,
     "status": "ok",
     "timestamp": 1641936457137,
     "user": {
      "displayName": "Rahell Hamarash",
      "photoUrl": "https://lh3.googleusercontent.com/a-/AOh14Gilb3aT4LZIngPquHJSpEJxa44E1UbI_cPebqqhnQ=s64",
      "userId": "01393443202245398716"
     },
     "user_tz": -180
    },
    "id": "GdEK6SfL_EjY",
    "outputId": "0da9214e-6177-4be4-f7e1-88a80e3747fd"
   },
   "outputs": [
    {
     "data": {
      "image/png": "[encoded data removed]",
      "text/plain": [
       "<Figure size 432x288 with 1 Axes>"
      ]
     },
     "metadata": {
      "needs_background": "light"
     },
     "output_type": "display_data"
    }
   ],
   "source": [
    "from sklearn.pipeline import Pipeline\n",
    "import numpy as np\n",
    "from sklearn.metrics import mean_squared_error\n",
    "from sklearn.model_selection import train_test_split\n",
    "import matplotlib.pyplot as plt\n",
    "from sklearn.linear_model import LinearRegression\n",
    "\n",
    "def plot_learning_curves(model, x, y):\n",
    "  x_train, x_test, y_train, y_test = train_test_split(x, y, test_size=0.2)\n",
    "  train_errors, test_errors = [], []\n",
    "  for m in range(1, len(x_train)):\n",
    "    model.fit(x_train[:m], y_train[:m])\n",
    "    y_train_predict = model.predict(x_train[:m])\n",
    "    y_test_predict = model.predict(x_test)\n",
    "    train_errors.append(mean_squared_error(y_train_predict, y_train[:m]))\n",
    "    test_errors.append(mean_squared_error(y_test_predict, y_test))\n",
    "  plt.plot(np.sqrt(train_errors), \"r-+\", linewidth=2, label=\"train\")\n",
    "  plt.plot(np.sqrt(test_errors), \"b-\", linewidth=3, label=\"test\")\n",
    "\n",
    "\n",
    "np.random.seed(42)\n",
    "x = 2 * np.random.rand(100, 1)\n",
    "y = 4 + 3 * x + np.random.randn(100, 1)\n",
    "\n",
    "polynomial_regression = Pipeline((\n",
    "(\"poly_features\", PolynomialFeatures(degree=1000, include_bias=False)),\n",
    "(\"lin_reg\", LinearRegression()),\n",
    "))\n",
    "plot_learning_curves(polynomial_regression, x, y)\n"
   ]
  }
 ],
 "metadata": {
  "colab": {
   "authorship_tag": "ABX9TyM0u1pHTuXHMwovyYq9/xPq",
   "collapsed_sections": [],
   "name": "Untitled2.ipynb",
   "provenance": [],
   "toc_visible": true
  },
  "kernelspec": {
   "display_name": "Python 3",
   "name": "python3"
  },
  "language_info": {
   "name": "python"
  }
 },
 "nbformat": 4,
 "nbformat_minor": 0
}
