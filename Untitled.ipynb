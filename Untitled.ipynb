{
 "cells": [
  {
   "cell_type": "code",
   "execution_count": 1,
   "id": "dfb392df",
   "metadata": {},
   "outputs": [
    {
     "name": "stdout",
     "output_type": "stream",
     "text": [
      "hello\n"
     ]
    }
   ],
   "source": [
    "print(\"hello\")"
   ]
  },
  {
   "cell_type": "code",
   "execution_count": 95,
   "id": "9e4510f8",
   "metadata": {
    "scrolled": false
   },
   "outputs": [
    {
     "data": {
      "text/plain": [
       "(20640, 18)"
      ]
     },
     "execution_count": 95,
     "metadata": {},
     "output_type": "execute_result"
    }
   ],
   "source": [
    "import os\n",
    "import tarfile\n",
    "import pandas as pd\n",
    "import matplotlib.pyplot as plt\n",
    "from six.moves import urllib\n",
    "from\tsklearn.model_selection\timport\ttrain_test_split , StratifiedShuffleSplit\n",
    "from\tpandas.plotting\timport\tscatter_matrix\n",
    "from sklearn.impute import SimpleImputer\n",
    "from\tsklearn.preprocessing\timport\tLabelEncoder\n",
    "from\tsklearn.preprocessing\timport\tLabelBinarizer\n",
    "from\tsklearn.pipeline\timport\tPipeline\n",
    "from\tsklearn.preprocessing\timport\tStandardScaler\n",
    "from\tsklearn.pipeline\timport\tFeatureUnion\n",
    "\n",
    "\n",
    "import numpy as np\n",
    "\n",
    "DOWNLOAD_ROOT = \"https://raw.githubusercontent.com/ageron/handson-ml/master/\"\n",
    "HOUSING_PATH = os.path.join(\"datasets\",\"housing\")\n",
    "HOUSING_URL = DOWNLOAD_ROOT+\"datasets/housing/housing.tgz\"\n",
    "def fetch_housing_data(housing_url=HOUSING_URL, housing_path=HOUSING_PATH):\n",
    "    if not os.path.isdir(housing_path):\n",
    "        os.makedirs(housing_path)\n",
    "        tgz_path = os.path.join(housing_path, \"housing.tgz\")\n",
    "        urllib.request.urlretrieve(housing_url, tgz_path)\n",
    "        housing_tgz = tarfile.open(tgz_path)\n",
    "        housing_tgz.extractall(path=housing_path)\n",
    "        housing_tgz.close()\n",
    "\n",
    "def\tload_housing_data(housing_path=HOUSING_PATH):\n",
    "\tcsv_path\t=\tos.path.join(housing_path,\t\"housing.csv\")\n",
    "\treturn\tpd.read_csv(csv_path)\n",
    "\n",
    "\n",
    "housing = load_housing_data()\n",
    "housing[\"income_cat\"]\t=\tnp.ceil(housing[\"median_income\"]\t/\t1.5)\n",
    "housing[\"income_cat\"].where(housing[\"income_cat\"]<5,5,inplace=True)\n",
    "\n",
    "# print(housing)\n",
    "train_set , test_set = train_test_split(housing,test_size=0.2,random_state=42) \n",
    "split\t=\tStratifiedShuffleSplit(n_splits=1,\ttest_size=0.2,\trandom_state=42)\n",
    "for\ttrain_index,\ttest_index\tin\tsplit.split(housing,housing['income_cat']):\n",
    "    strain_set\t=\thousing.loc[train_index]\n",
    "    stest_set\t=\thousing.loc[test_index]\n",
    "\n",
    "# strain_set['income_cat'].hist(bins=50,figsize=(20,15))\n",
    "# stest_set['income_cat'].hist(bins=50,figsize=(20,15))\n",
    "# plt.show()\n",
    "\n",
    "    \n",
    "# train_set['income_cat'].hist(bins=50,figsize=(20,15))\n",
    "# test_set['income_cat'].hist(bins=50,figsize=(20,15))    \n",
    "# plt.show()\n",
    "\n",
    "# housing.plot(kind=\"scatter\",\tx=\"longitude\",\ty=\"latitude\",alpha=0.1)\n",
    "# housing.plot(kind=\"scatter\",\tx=\"longitude\",\ty=\"latitude\",\talpha=0.4,\n",
    "# housing.plot(kind=\"scatter\",\tx=\"longitude\",\ty=\"latitude\",\talpha=0.4,\n",
    "#     s=housing[\"population\"]/100,\tlabel=\"population\",\tfigsize=(10,7),\n",
    "#     c=\"median_house_value\",\tcmap=plt.get_cmap(\"jet\"),\tcolorbar=True,\n",
    "# )\n",
    "# plt.legend()\n",
    "# corr_matrix\t=\thousing.corr()\n",
    "# print(housing)\n",
    "# housing['rooms_per_household'] = housing['total_rooms']/housing['households']\n",
    "# housing[\"bedrooms_per_room\"]\t=\thousing[\"total_bedrooms\"]/housing[\"total_rooms\"]\n",
    "# housing[\"population_per_household\"]=housing[\"population\"]/housing[\"households\"]\n",
    "# housing\t=\tstrain_set.drop(\"median_house_value\",\taxis=1)\n",
    "# housing_labels\t=\tstrain_set[\"median_house_value\"].copy()\n",
    "# print(housing,'housing DONE!', housing_labels)\n",
    "from\tsklearn.base\timport\tBaseEstimator,\tTransformerMixin\n",
    "\n",
    "rooms_ix,\tbedrooms_ix,\tpopulation_ix,\thousehold_ix\t=\t3,\t4,\t5,\t6\n",
    "class\tCombinedAttributesAdder(BaseEstimator,\tTransformerMixin):\n",
    "\t\t\t\tdef\t__init__(self,\tadd_bedrooms_per_room\t=\tTrue):\t#\tno\t*args\tor\t**kargs\n",
    "\t\t\t\t\t\t\t\tself.add_bedrooms_per_room\t=\tadd_bedrooms_per_room\n",
    "\t\t\t\tdef\tfit(self,\tX,\ty=None):\n",
    "\t\t\t\t\t\t\t\treturn\tself\t\t#\tnothing\telse\tto\tdo\n",
    "\t\t\t\tdef\ttransform(self,\tX,\ty=None):\n",
    "\t\t\t\t\t\t\t\trooms_per_household\t=\tX[:,\trooms_ix]\t/\tX[:,\thousehold_ix]\n",
    "\t\t\t\t\t\t\t\tpopulation_per_household\t=\tX[:,\tpopulation_ix]\t/\tX[:,\thousehold_ix]\n",
    "\t\t\t\t\t\t\t\tif\tself.add_bedrooms_per_room:\n",
    "\t\t\t\t\t\t\t\t\t\t\t\tbedrooms_per_room\t=\tX[:,\tbedrooms_ix]\t/\tX[:,\trooms_ix]\n",
    "\t\t\t\t\t\t\t\t\t\t\t\treturn\tnp.c_[X,\trooms_per_household,\tpopulation_per_household,\n",
    "\t\t\t\t\t\t\t\t\t\t\t\t\t\t\t\t\t\t\t\t\t\t\t\t\tbedrooms_per_room]\n",
    "\t\t\t\t\t\t\t\telse:\n",
    "\t\t\t\t\t\t\t\t\t\t\t\treturn\tnp.c_[X,\trooms_per_household,\tpopulation_per_household]\n",
    "\n",
    "class\tDataFrameSelector(BaseEstimator,\tTransformerMixin):\n",
    "    def\t__init__(self,\tattribute_names):\n",
    "        self.attribute_names\t=\tattribute_names\n",
    "    def\tfit(self,\tX,\ty=None):\n",
    "        return\tself\n",
    "    def\ttransform(self,\tX):\n",
    "        return\tX[self.attribute_names].values\n",
    "\n",
    "\n",
    "\n",
    "    \n",
    "class CustomLabelBinarizer(BaseEstimator, TransformerMixin):\n",
    "    def __init__(self, sparse_output=False):\n",
    "        self.sparse_output = sparse_output\n",
    "    def fit(self, X, y=None):\n",
    "        return self\n",
    "    def transform(self, X, y=None):\n",
    "        enc = LabelBinarizer(sparse_output=self.sparse_output)\n",
    "        return enc.fit_transform(X)\n",
    "    \n",
    "\n",
    "attr_adder\t=\tCombinedAttributesAdder(add_bedrooms_per_room=False)\n",
    "housing_extra_attribs\t=\tattr_adder.transform(housing.values)\n",
    "num_attribs\t=\tlist(housing_num)\n",
    "cat_attribs\t=\t[\"ocean_proximity\"]\n",
    "\n",
    "imputer\t=\tSimpleImputer(strategy=\"median\")\n",
    "housing_num\t=\thousing.drop(\"ocean_proximity\",\taxis=1)\n",
    "imputer.fit(housing_num)\n",
    "housing_num_np= imputer.transform(housing_num)\n",
    "housing_num_pandas\t=\tpd.DataFrame(housing_num_np,\tcolumns=housing_num.columns)\n",
    "encoder\t=\tLabelBinarizer(sparse_output=True)\n",
    "housing_cat = housing['ocean_proximity']\n",
    "housing_cat_1hot= encoder.fit_transform(housing_cat)\n",
    "num_pipeline\t=\tPipeline([\n",
    "\t\t\t\t\t\t\t\t('selector',\tDataFrameSelector(num_attribs)),\n",
    "\t\t\t\t\t\t\t\t('imputer',\tSimpleImputer(strategy=\"median\")),\n",
    "\t\t\t\t\t\t\t\t('attribs_adder',\tCombinedAttributesAdder()),\n",
    "\t\t\t\t\t\t\t\t('std_scaler',\tStandardScaler()),\n",
    "\t\t\t\t])\n",
    "cat_pipeline\t=\tPipeline([\n",
    "\t\t\t\t\t\t\t\t('selector',\tDataFrameSelector(cat_attribs)),\n",
    "\t\t\t\t\t\t\t\t('label_binarizer',\tCustomLabelBinarizer()),\n",
    "\t\t\t\t])\n",
    "\n",
    "\n",
    "full_pipeline\t=\tFeatureUnion(transformer_list=[\n",
    "    (\"num_pipeline\",\tnum_pipeline),\n",
    "    (\"cat_pipeline\",\tcat_pipeline)\n",
    "    ])\n",
    "\n",
    "\n",
    "housing_prepared\t=\tfull_pipeline.fit_transform(housing)\n",
    "\n",
    "housing_prepared.shape\n",
    "\n"
   ]
  },
  {
   "cell_type": "code",
   "execution_count": 68,
   "id": "ba0821c1",
   "metadata": {
    "collapsed": true
   },
   "outputs": [
    {
     "name": "stdout",
     "output_type": "stream",
     "text": [
      "       longitude  latitude  housing_median_age  total_rooms  total_bedrooms  \\\n",
      "0        -122.23     37.88                41.0        880.0           129.0   \n",
      "1        -122.22     37.86                21.0       7099.0          1106.0   \n",
      "2        -122.24     37.85                52.0       1467.0           190.0   \n",
      "3        -122.25     37.85                52.0       1274.0           235.0   \n",
      "4        -122.25     37.85                52.0       1627.0           280.0   \n",
      "...          ...       ...                 ...          ...             ...   \n",
      "20635    -121.09     39.48                25.0       1665.0           374.0   \n",
      "20636    -121.21     39.49                18.0        697.0           150.0   \n",
      "20637    -121.22     39.43                17.0       2254.0           485.0   \n",
      "20638    -121.32     39.43                18.0       1860.0           409.0   \n",
      "20639    -121.24     39.37                16.0       2785.0           616.0   \n",
      "\n",
      "       population  households  median_income  median_house_value  \\\n",
      "0           322.0       126.0         8.3252            452600.0   \n",
      "1          2401.0      1138.0         8.3014            358500.0   \n",
      "2           496.0       177.0         7.2574            352100.0   \n",
      "3           558.0       219.0         5.6431            341300.0   \n",
      "4           565.0       259.0         3.8462            342200.0   \n",
      "...           ...         ...            ...                 ...   \n",
      "20635       845.0       330.0         1.5603             78100.0   \n",
      "20636       356.0       114.0         2.5568             77100.0   \n",
      "20637      1007.0       433.0         1.7000             92300.0   \n",
      "20638       741.0       349.0         1.8672             84700.0   \n",
      "20639      1387.0       530.0         2.3886             89400.0   \n",
      "\n",
      "      ocean_proximity  income_cat  \n",
      "0            NEAR BAY         5.0  \n",
      "1            NEAR BAY         5.0  \n",
      "2            NEAR BAY         5.0  \n",
      "3            NEAR BAY         4.0  \n",
      "4            NEAR BAY         3.0  \n",
      "...               ...         ...  \n",
      "20635          INLAND         2.0  \n",
      "20636          INLAND         2.0  \n",
      "20637          INLAND         2.0  \n",
      "20638          INLAND         2.0  \n",
      "20639          INLAND         2.0  \n",
      "\n",
      "[20640 rows x 11 columns]\n"
     ]
    },
    {
     "ename": "TypeError",
     "evalue": "'<' not supported between instances of 'float' and 'str'",
     "output_type": "error",
     "traceback": [
      "\u001b[0;31m---------------------------------------------------------------------------\u001b[0m",
      "\u001b[0;31mTypeError\u001b[0m                                 Traceback (most recent call last)",
      "\u001b[0;32m/tmp/ipykernel_6643/3426717315.py\u001b[0m in \u001b[0;36m<module>\u001b[0;34m\u001b[0m\n\u001b[1;32m      4\u001b[0m \u001b[0mhousing_cat\u001b[0m \u001b[0;34m=\u001b[0m \u001b[0mhousing\u001b[0m\u001b[0;34m\u001b[0m\u001b[0;34m\u001b[0m\u001b[0m\n\u001b[1;32m      5\u001b[0m \u001b[0mprint\u001b[0m\u001b[0;34m(\u001b[0m\u001b[0mhousing_cat\u001b[0m\u001b[0;34m)\u001b[0m\u001b[0;34m\u001b[0m\u001b[0;34m\u001b[0m\u001b[0m\n\u001b[0;32m----> 6\u001b[0;31m \u001b[0mhousing_cat_1hot\u001b[0m\u001b[0;34m=\u001b[0m \u001b[0mencoder\u001b[0m\u001b[0;34m.\u001b[0m\u001b[0mfit_transform\u001b[0m\u001b[0;34m(\u001b[0m\u001b[0mhousing_cat\u001b[0m\u001b[0;34m)\u001b[0m\u001b[0;34m\u001b[0m\u001b[0;34m\u001b[0m\u001b[0m\n\u001b[0m\u001b[1;32m      7\u001b[0m \u001b[0mhousing_cat_1hot\u001b[0m\u001b[0;34m\u001b[0m\u001b[0;34m\u001b[0m\u001b[0m\n\u001b[1;32m      8\u001b[0m \u001b[0;34m\u001b[0m\u001b[0m\n",
      "\u001b[0;32m~/ml/env/lib/python3.9/site-packages/sklearn/preprocessing/_label.py\u001b[0m in \u001b[0;36mfit_transform\u001b[0;34m(self, y)\u001b[0m\n\u001b[1;32m    322\u001b[0m             \u001b[0mwill\u001b[0m \u001b[0mbe\u001b[0m \u001b[0mof\u001b[0m \u001b[0mCSR\u001b[0m \u001b[0mformat\u001b[0m\u001b[0;34m.\u001b[0m\u001b[0;34m\u001b[0m\u001b[0;34m\u001b[0m\u001b[0m\n\u001b[1;32m    323\u001b[0m         \"\"\"\n\u001b[0;32m--> 324\u001b[0;31m         \u001b[0;32mreturn\u001b[0m \u001b[0mself\u001b[0m\u001b[0;34m.\u001b[0m\u001b[0mfit\u001b[0m\u001b[0;34m(\u001b[0m\u001b[0my\u001b[0m\u001b[0;34m)\u001b[0m\u001b[0;34m.\u001b[0m\u001b[0mtransform\u001b[0m\u001b[0;34m(\u001b[0m\u001b[0my\u001b[0m\u001b[0;34m)\u001b[0m\u001b[0;34m\u001b[0m\u001b[0;34m\u001b[0m\u001b[0m\n\u001b[0m\u001b[1;32m    325\u001b[0m \u001b[0;34m\u001b[0m\u001b[0m\n\u001b[1;32m    326\u001b[0m     \u001b[0;32mdef\u001b[0m \u001b[0mtransform\u001b[0m\u001b[0;34m(\u001b[0m\u001b[0mself\u001b[0m\u001b[0;34m,\u001b[0m \u001b[0my\u001b[0m\u001b[0;34m)\u001b[0m\u001b[0;34m:\u001b[0m\u001b[0;34m\u001b[0m\u001b[0;34m\u001b[0m\u001b[0m\n",
      "\u001b[0;32m~/ml/env/lib/python3.9/site-packages/sklearn/preprocessing/_label.py\u001b[0m in \u001b[0;36mfit\u001b[0;34m(self, y)\u001b[0m\n\u001b[1;32m    290\u001b[0m             \u001b[0mReturns\u001b[0m \u001b[0mthe\u001b[0m \u001b[0minstance\u001b[0m \u001b[0mitself\u001b[0m\u001b[0;34m.\u001b[0m\u001b[0;34m\u001b[0m\u001b[0;34m\u001b[0m\u001b[0m\n\u001b[1;32m    291\u001b[0m         \"\"\"\n\u001b[0;32m--> 292\u001b[0;31m         \u001b[0mself\u001b[0m\u001b[0;34m.\u001b[0m\u001b[0my_type_\u001b[0m \u001b[0;34m=\u001b[0m \u001b[0mtype_of_target\u001b[0m\u001b[0;34m(\u001b[0m\u001b[0my\u001b[0m\u001b[0;34m)\u001b[0m\u001b[0;34m\u001b[0m\u001b[0;34m\u001b[0m\u001b[0m\n\u001b[0m\u001b[1;32m    293\u001b[0m         \u001b[0;32mif\u001b[0m \u001b[0;34m\"multioutput\"\u001b[0m \u001b[0;32min\u001b[0m \u001b[0mself\u001b[0m\u001b[0;34m.\u001b[0m\u001b[0my_type_\u001b[0m\u001b[0;34m:\u001b[0m\u001b[0;34m\u001b[0m\u001b[0;34m\u001b[0m\u001b[0m\n\u001b[1;32m    294\u001b[0m             raise ValueError(\n",
      "\u001b[0;32m~/ml/env/lib/python3.9/site-packages/sklearn/utils/multiclass.py\u001b[0m in \u001b[0;36mtype_of_target\u001b[0;34m(y)\u001b[0m\n\u001b[1;32m    277\u001b[0m         \u001b[0;32mraise\u001b[0m \u001b[0mValueError\u001b[0m\u001b[0;34m(\u001b[0m\u001b[0;34m\"y cannot be class 'SparseSeries' or 'SparseArray'\"\u001b[0m\u001b[0;34m)\u001b[0m\u001b[0;34m\u001b[0m\u001b[0;34m\u001b[0m\u001b[0m\n\u001b[1;32m    278\u001b[0m \u001b[0;34m\u001b[0m\u001b[0m\n\u001b[0;32m--> 279\u001b[0;31m     \u001b[0;32mif\u001b[0m \u001b[0mis_multilabel\u001b[0m\u001b[0;34m(\u001b[0m\u001b[0my\u001b[0m\u001b[0;34m)\u001b[0m\u001b[0;34m:\u001b[0m\u001b[0;34m\u001b[0m\u001b[0;34m\u001b[0m\u001b[0m\n\u001b[0m\u001b[1;32m    280\u001b[0m         \u001b[0;32mreturn\u001b[0m \u001b[0;34m\"multilabel-indicator\"\u001b[0m\u001b[0;34m\u001b[0m\u001b[0;34m\u001b[0m\u001b[0m\n\u001b[1;32m    281\u001b[0m \u001b[0;34m\u001b[0m\u001b[0m\n",
      "\u001b[0;32m~/ml/env/lib/python3.9/site-packages/sklearn/utils/multiclass.py\u001b[0m in \u001b[0;36mis_multilabel\u001b[0;34m(y)\u001b[0m\n\u001b[1;32m    170\u001b[0m         )\n\u001b[1;32m    171\u001b[0m     \u001b[0;32melse\u001b[0m\u001b[0;34m:\u001b[0m\u001b[0;34m\u001b[0m\u001b[0;34m\u001b[0m\u001b[0m\n\u001b[0;32m--> 172\u001b[0;31m         \u001b[0mlabels\u001b[0m \u001b[0;34m=\u001b[0m \u001b[0mnp\u001b[0m\u001b[0;34m.\u001b[0m\u001b[0munique\u001b[0m\u001b[0;34m(\u001b[0m\u001b[0my\u001b[0m\u001b[0;34m)\u001b[0m\u001b[0;34m\u001b[0m\u001b[0;34m\u001b[0m\u001b[0m\n\u001b[0m\u001b[1;32m    173\u001b[0m \u001b[0;34m\u001b[0m\u001b[0m\n\u001b[1;32m    174\u001b[0m         return len(labels) < 3 and (\n",
      "\u001b[0;32m<__array_function__ internals>\u001b[0m in \u001b[0;36munique\u001b[0;34m(*args, **kwargs)\u001b[0m\n",
      "\u001b[0;32m~/ml/env/lib/python3.9/site-packages/numpy/lib/arraysetops.py\u001b[0m in \u001b[0;36munique\u001b[0;34m(ar, return_index, return_inverse, return_counts, axis)\u001b[0m\n\u001b[1;32m    270\u001b[0m     \u001b[0mar\u001b[0m \u001b[0;34m=\u001b[0m \u001b[0mnp\u001b[0m\u001b[0;34m.\u001b[0m\u001b[0masanyarray\u001b[0m\u001b[0;34m(\u001b[0m\u001b[0mar\u001b[0m\u001b[0;34m)\u001b[0m\u001b[0;34m\u001b[0m\u001b[0;34m\u001b[0m\u001b[0m\n\u001b[1;32m    271\u001b[0m     \u001b[0;32mif\u001b[0m \u001b[0maxis\u001b[0m \u001b[0;32mis\u001b[0m \u001b[0;32mNone\u001b[0m\u001b[0;34m:\u001b[0m\u001b[0;34m\u001b[0m\u001b[0;34m\u001b[0m\u001b[0m\n\u001b[0;32m--> 272\u001b[0;31m         \u001b[0mret\u001b[0m \u001b[0;34m=\u001b[0m \u001b[0m_unique1d\u001b[0m\u001b[0;34m(\u001b[0m\u001b[0mar\u001b[0m\u001b[0;34m,\u001b[0m \u001b[0mreturn_index\u001b[0m\u001b[0;34m,\u001b[0m \u001b[0mreturn_inverse\u001b[0m\u001b[0;34m,\u001b[0m \u001b[0mreturn_counts\u001b[0m\u001b[0;34m)\u001b[0m\u001b[0;34m\u001b[0m\u001b[0;34m\u001b[0m\u001b[0m\n\u001b[0m\u001b[1;32m    273\u001b[0m         \u001b[0;32mreturn\u001b[0m \u001b[0m_unpack_tuple\u001b[0m\u001b[0;34m(\u001b[0m\u001b[0mret\u001b[0m\u001b[0;34m)\u001b[0m\u001b[0;34m\u001b[0m\u001b[0;34m\u001b[0m\u001b[0m\n\u001b[1;32m    274\u001b[0m \u001b[0;34m\u001b[0m\u001b[0m\n",
      "\u001b[0;32m~/ml/env/lib/python3.9/site-packages/numpy/lib/arraysetops.py\u001b[0m in \u001b[0;36m_unique1d\u001b[0;34m(ar, return_index, return_inverse, return_counts)\u001b[0m\n\u001b[1;32m    331\u001b[0m         \u001b[0maux\u001b[0m \u001b[0;34m=\u001b[0m \u001b[0mar\u001b[0m\u001b[0;34m[\u001b[0m\u001b[0mperm\u001b[0m\u001b[0;34m]\u001b[0m\u001b[0;34m\u001b[0m\u001b[0;34m\u001b[0m\u001b[0m\n\u001b[1;32m    332\u001b[0m     \u001b[0;32melse\u001b[0m\u001b[0;34m:\u001b[0m\u001b[0;34m\u001b[0m\u001b[0;34m\u001b[0m\u001b[0m\n\u001b[0;32m--> 333\u001b[0;31m         \u001b[0mar\u001b[0m\u001b[0;34m.\u001b[0m\u001b[0msort\u001b[0m\u001b[0;34m(\u001b[0m\u001b[0;34m)\u001b[0m\u001b[0;34m\u001b[0m\u001b[0;34m\u001b[0m\u001b[0m\n\u001b[0m\u001b[1;32m    334\u001b[0m         \u001b[0maux\u001b[0m \u001b[0;34m=\u001b[0m \u001b[0mar\u001b[0m\u001b[0;34m\u001b[0m\u001b[0;34m\u001b[0m\u001b[0m\n\u001b[1;32m    335\u001b[0m     \u001b[0mmask\u001b[0m \u001b[0;34m=\u001b[0m \u001b[0mnp\u001b[0m\u001b[0;34m.\u001b[0m\u001b[0mempty\u001b[0m\u001b[0;34m(\u001b[0m\u001b[0maux\u001b[0m\u001b[0;34m.\u001b[0m\u001b[0mshape\u001b[0m\u001b[0;34m,\u001b[0m \u001b[0mdtype\u001b[0m\u001b[0;34m=\u001b[0m\u001b[0mnp\u001b[0m\u001b[0;34m.\u001b[0m\u001b[0mbool_\u001b[0m\u001b[0;34m)\u001b[0m\u001b[0;34m\u001b[0m\u001b[0;34m\u001b[0m\u001b[0m\n",
      "\u001b[0;31mTypeError\u001b[0m: '<' not supported between instances of 'float' and 'str'"
     ]
    }
   ],
   "source": [
    "from\tsklearn.base\timport\tBaseEstimator,\tTransformerMixin\n",
    "\n",
    "rooms_ix,\tbedrooms_ix,\tpopulation_ix,\thousehold_ix\t=\t3,\t4,\t5,\t6\n",
    "class\tCombinedAttributesAdder(BaseEstimator,\tTransformerMixin):\n",
    "\t\t\t\tdef\t__init__(self,\tadd_bedrooms_per_room\t=\tTrue):\t#\tno\t*args\tor\t**kargs\n",
    "\t\t\t\t\t\t\t\tself.add_bedrooms_per_room\t=\tadd_bedrooms_per_room\n",
    "\t\t\t\tdef\tfit(self,\tX,\ty=None):\n",
    "\t\t\t\t\t\t\t\treturn\tself\t\t#\tnothing\telse\tto\tdo\n",
    "\t\t\t\tdef\ttransform(self,\tX,\ty=None):\n",
    "\t\t\t\t\t\t\t\trooms_per_household\t=\tX[:,\trooms_ix]\t/\tX[:,\thousehold_ix]\n",
    "\t\t\t\t\t\t\t\tpopulation_per_household\t=\tX[:,\tpopulation_ix]\t/\tX[:,\thousehold_ix]\n",
    "\t\t\t\t\t\t\t\tif\tself.add_bedrooms_per_room:\n",
    "\t\t\t\t\t\t\t\t\t\t\t\tbedrooms_per_room\t=\tX[:,\tbedrooms_ix]\t/\tX[:,\trooms_ix]\n",
    "\t\t\t\t\t\t\t\t\t\t\t\treturn\tnp.c_[X,\trooms_per_household,\tpopulation_per_household,\n",
    "\t\t\t\t\t\t\t\t\t\t\t\t\t\t\t\t\t\t\t\t\t\t\t\t\tbedrooms_per_room]\n",
    "\t\t\t\t\t\t\t\telse:\n",
    "\t\t\t\t\t\t\t\t\t\t\t\treturn\tnp.c_[X,\trooms_per_household,\tpopulation_per_household]\n",
    "attr_adder\t=\tCombinedAttributesAdder(add_bedrooms_per_room=False)\n",
    "housing_extra_attribs\t=\tattr_adder.transform(housing.values)\n"
   ]
  },
  {
   "cell_type": "code",
   "execution_count": 57,
   "id": "2956422d",
   "metadata": {},
   "outputs": [
    {
     "data": {
      "text/plain": [
       "array([[0., 0., 0., 1., 0.],\n",
       "       [0., 0., 0., 1., 0.],\n",
       "       [0., 0., 0., 1., 0.],\n",
       "       ...,\n",
       "       [0., 1., 0., 0., 0.],\n",
       "       [0., 1., 0., 0., 0.],\n",
       "       [0., 1., 0., 0., 0.]])"
      ]
     },
     "execution_count": 57,
     "metadata": {},
     "output_type": "execute_result"
    }
   ],
   "source": [
    "from\tsklearn.preprocessing\timport\tOneHotEncoder\n",
    "\n"
   ]
  },
  {
   "cell_type": "code",
   "execution_count": null,
   "id": "a2f5c2da",
   "metadata": {},
   "outputs": [],
   "source": []
  }
 ],
 "metadata": {
  "kernelspec": {
   "display_name": "Python 3 (ipykernel)",
   "language": "python",
   "name": "python3"
  },
  "language_info": {
   "codemirror_mode": {
    "name": "ipython",
    "version": 3
   },
   "file_extension": ".py",
   "mimetype": "text/x-python",
   "name": "python",
   "nbconvert_exporter": "python",
   "pygments_lexer": "ipython3",
   "version": "3.9.2"
  }
 },
 "nbformat": 4,
 "nbformat_minor": 5
}
